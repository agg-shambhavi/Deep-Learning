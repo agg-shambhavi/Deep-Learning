{
 "cells": [
  {
   "cell_type": "markdown",
   "metadata": {},
   "source": [
    "# Introduction to TensorFlow\n",
    "Building a simple sequential Model"
   ]
  },
  {
   "cell_type": "code",
   "execution_count": 1,
   "metadata": {},
   "outputs": [
    {
     "name": "stderr",
     "output_type": "stream",
     "text": [
      "C:\\Users\\DELL\\anaconda3\\envs\\tf-gpu-dl\\lib\\site-packages\\tensorflow\\python\\framework\\dtypes.py:526: FutureWarning: Passing (type, 1) or '1type' as a synonym of type is deprecated; in a future version of numpy, it will be understood as (type, (1,)) / '(1,)type'.\n",
      "  _np_qint8 = np.dtype([(\"qint8\", np.int8, 1)])\n",
      "C:\\Users\\DELL\\anaconda3\\envs\\tf-gpu-dl\\lib\\site-packages\\tensorflow\\python\\framework\\dtypes.py:527: FutureWarning: Passing (type, 1) or '1type' as a synonym of type is deprecated; in a future version of numpy, it will be understood as (type, (1,)) / '(1,)type'.\n",
      "  _np_quint8 = np.dtype([(\"quint8\", np.uint8, 1)])\n",
      "C:\\Users\\DELL\\anaconda3\\envs\\tf-gpu-dl\\lib\\site-packages\\tensorflow\\python\\framework\\dtypes.py:528: FutureWarning: Passing (type, 1) or '1type' as a synonym of type is deprecated; in a future version of numpy, it will be understood as (type, (1,)) / '(1,)type'.\n",
      "  _np_qint16 = np.dtype([(\"qint16\", np.int16, 1)])\n",
      "C:\\Users\\DELL\\anaconda3\\envs\\tf-gpu-dl\\lib\\site-packages\\tensorflow\\python\\framework\\dtypes.py:529: FutureWarning: Passing (type, 1) or '1type' as a synonym of type is deprecated; in a future version of numpy, it will be understood as (type, (1,)) / '(1,)type'.\n",
      "  _np_quint16 = np.dtype([(\"quint16\", np.uint16, 1)])\n",
      "C:\\Users\\DELL\\anaconda3\\envs\\tf-gpu-dl\\lib\\site-packages\\tensorflow\\python\\framework\\dtypes.py:530: FutureWarning: Passing (type, 1) or '1type' as a synonym of type is deprecated; in a future version of numpy, it will be understood as (type, (1,)) / '(1,)type'.\n",
      "  _np_qint32 = np.dtype([(\"qint32\", np.int32, 1)])\n",
      "C:\\Users\\DELL\\anaconda3\\envs\\tf-gpu-dl\\lib\\site-packages\\tensorflow\\python\\framework\\dtypes.py:535: FutureWarning: Passing (type, 1) or '1type' as a synonym of type is deprecated; in a future version of numpy, it will be understood as (type, (1,)) / '(1,)type'.\n",
      "  np_resource = np.dtype([(\"resource\", np.ubyte, 1)])\n"
     ]
    }
   ],
   "source": [
    "import tensorflow as tf\n",
    "import numpy as np\n",
    "from tensorflow import keras"
   ]
  },
  {
   "cell_type": "code",
   "execution_count": 2,
   "metadata": {},
   "outputs": [
    {
     "name": "stdout",
     "output_type": "stream",
     "text": [
      "WARNING:tensorflow:From C:\\Users\\DELL\\anaconda3\\envs\\tf-gpu-dl\\lib\\site-packages\\tensorflow\\python\\ops\\resource_variable_ops.py:435: colocate_with (from tensorflow.python.framework.ops) is deprecated and will be removed in a future version.\n",
      "Instructions for updating:\n",
      "Colocations handled automatically by placer.\n"
     ]
    }
   ],
   "source": [
    "model = tf.keras.Sequential([keras.layers.Dense(units=1,input_shape=[1])]) "
   ]
  },
  {
   "cell_type": "code",
   "execution_count": 3,
   "metadata": {},
   "outputs": [
    {
     "name": "stdout",
     "output_type": "stream",
     "text": [
      "WARNING:tensorflow:From C:\\Users\\DELL\\anaconda3\\envs\\tf-gpu-dl\\lib\\site-packages\\tensorflow\\python\\keras\\utils\\losses_utils.py:170: to_float (from tensorflow.python.ops.math_ops) is deprecated and will be removed in a future version.\n",
      "Instructions for updating:\n",
      "Use tf.cast instead.\n"
     ]
    }
   ],
   "source": [
    "model.compile(optimizer='sgd', loss='mean_squared_error')"
   ]
  },
  {
   "cell_type": "code",
   "execution_count": 7,
   "metadata": {},
   "outputs": [],
   "source": [
    "# y = (2 * x) - 1\n",
    "xs = np.array([-1.0, 0.0, 1.0, 2.0, 3.0, 4.0], dtype=float)\n",
    "ys = np.array([-3.0,-1.0, 1.0, 3.0, 5.0, 7.0], dtype=float)"
   ]
  },
  {
   "cell_type": "code",
   "execution_count": 5,
   "metadata": {},
   "outputs": [
    {
     "name": "stdout",
     "output_type": "stream",
     "text": [
      "WARNING:tensorflow:From C:\\Users\\DELL\\anaconda3\\envs\\tf-gpu-dl\\lib\\site-packages\\tensorflow\\python\\ops\\math_ops.py:3066: to_int32 (from tensorflow.python.ops.math_ops) is deprecated and will be removed in a future version.\n",
      "Instructions for updating:\n",
      "Use tf.cast instead.\n",
      "Epoch 1/100\n",
      "6/6 [==============================] - 0s 18ms/sample - loss: 1.4036\n",
      "Epoch 2/100\n",
      "6/6 [==============================] - 0s 166us/sample - loss: 1.2392\n",
      "Epoch 3/100\n",
      "6/6 [==============================] - 0s 166us/sample - loss: 1.1071\n",
      "Epoch 4/100\n",
      "6/6 [==============================] - 0s 166us/sample - loss: 1.0004\n",
      "Epoch 5/100\n",
      "6/6 [==============================] - 0s 166us/sample - loss: 0.9138\n",
      "Epoch 6/100\n",
      "6/6 [==============================] - 0s 332us/sample - loss: 0.8431\n",
      "Epoch 7/100\n",
      "6/6 [==============================] - 0s 333us/sample - loss: 0.7849\n",
      "Epoch 8/100\n",
      "6/6 [==============================] - 0s 333us/sample - loss: 0.7366\n",
      "Epoch 9/100\n",
      "6/6 [==============================] - 0s 166us/sample - loss: 0.6962\n",
      "Epoch 10/100\n",
      "6/6 [==============================] - 0s 332us/sample - loss: 0.6620\n",
      "Epoch 11/100\n",
      "6/6 [==============================] - 0s 330us/sample - loss: 0.6328\n",
      "Epoch 12/100\n",
      "6/6 [==============================] - 0s 166us/sample - loss: 0.6074\n",
      "Epoch 13/100\n",
      "6/6 [==============================] - 0s 166us/sample - loss: 0.5853\n",
      "Epoch 14/100\n",
      "6/6 [==============================] - 0s 166us/sample - loss: 0.5656\n",
      "Epoch 15/100\n",
      "6/6 [==============================] - 0s 166us/sample - loss: 0.5480\n",
      "Epoch 16/100\n",
      "6/6 [==============================] - 0s 160us/sample - loss: 0.5320\n",
      "Epoch 17/100\n",
      "6/6 [==============================] - 0s 166us/sample - loss: 0.5174\n",
      "Epoch 18/100\n",
      "6/6 [==============================] - 0s 334us/sample - loss: 0.5038\n",
      "Epoch 19/100\n",
      "6/6 [==============================] - 0s 332us/sample - loss: 0.4912\n",
      "Epoch 20/100\n",
      "6/6 [==============================] - 0s 166us/sample - loss: 0.4793\n",
      "Epoch 21/100\n",
      "6/6 [==============================] - 0s 166us/sample - loss: 0.4680\n",
      "Epoch 22/100\n",
      "6/6 [==============================] - 0s 333us/sample - loss: 0.4573\n",
      "Epoch 23/100\n",
      "6/6 [==============================] - 0s 166us/sample - loss: 0.4470\n",
      "Epoch 24/100\n",
      "6/6 [==============================] - 0s 166us/sample - loss: 0.4371\n",
      "Epoch 25/100\n",
      "6/6 [==============================] - 0s 332us/sample - loss: 0.4276\n",
      "Epoch 26/100\n",
      "6/6 [==============================] - 0s 160us/sample - loss: 0.4184\n",
      "Epoch 27/100\n",
      "6/6 [==============================] - 0s 166us/sample - loss: 0.4095\n",
      "Epoch 28/100\n",
      "6/6 [==============================] - 0s 166us/sample - loss: 0.4008\n",
      "Epoch 29/100\n",
      "6/6 [==============================] - 0s 166us/sample - loss: 0.3924\n",
      "Epoch 30/100\n",
      "6/6 [==============================] - 0s 168us/sample - loss: 0.3841\n",
      "Epoch 31/100\n",
      "6/6 [==============================] - 0s 332us/sample - loss: 0.3761\n",
      "Epoch 32/100\n",
      "6/6 [==============================] - 0s 333us/sample - loss: 0.3683\n",
      "Epoch 33/100\n",
      "6/6 [==============================] - 0s 332us/sample - loss: 0.3606\n",
      "Epoch 34/100\n",
      "6/6 [==============================] - 0s 166us/sample - loss: 0.3532\n",
      "Epoch 35/100\n",
      "6/6 [==============================] - 0s 166us/sample - loss: 0.3459\n",
      "Epoch 36/100\n",
      "6/6 [==============================] - 0s 166us/sample - loss: 0.3387\n",
      "Epoch 37/100\n",
      "6/6 [==============================] - 0s 167us/sample - loss: 0.3317\n",
      "Epoch 38/100\n",
      "6/6 [==============================] - 0s 167us/sample - loss: 0.3249\n",
      "Epoch 39/100\n",
      "6/6 [==============================] - 0s 166us/sample - loss: 0.3182\n",
      "Epoch 40/100\n",
      "6/6 [==============================] - 0s 329us/sample - loss: 0.3117\n",
      "Epoch 41/100\n",
      "6/6 [==============================] - 0s 166us/sample - loss: 0.3052\n",
      "Epoch 42/100\n",
      "6/6 [==============================] - 0s 332us/sample - loss: 0.2990\n",
      "Epoch 43/100\n",
      "6/6 [==============================] - 0s 166us/sample - loss: 0.2928\n",
      "Epoch 44/100\n",
      "6/6 [==============================] - 0s 333us/sample - loss: 0.2868\n",
      "Epoch 45/100\n",
      "6/6 [==============================] - 0s 332us/sample - loss: 0.2809\n",
      "Epoch 46/100\n",
      "6/6 [==============================] - 0s 166us/sample - loss: 0.2751\n",
      "Epoch 47/100\n",
      "6/6 [==============================] - 0s 166us/sample - loss: 0.2695\n",
      "Epoch 48/100\n",
      "6/6 [==============================] - 0s 166us/sample - loss: 0.2639\n",
      "Epoch 49/100\n",
      "6/6 [==============================] - 0s 162us/sample - loss: 0.2585\n",
      "Epoch 50/100\n",
      "6/6 [==============================] - 0s 164us/sample - loss: 0.2532\n",
      "Epoch 51/100\n",
      "6/6 [==============================] - 0s 165us/sample - loss: 0.2480\n",
      "Epoch 52/100\n",
      "6/6 [==============================] - 0s 166us/sample - loss: 0.2429\n",
      "Epoch 53/100\n",
      "6/6 [==============================] - 0s 166us/sample - loss: 0.2379\n",
      "Epoch 54/100\n",
      "6/6 [==============================] - 0s 167us/sample - loss: 0.2330\n",
      "Epoch 55/100\n",
      "6/6 [==============================] - 0s 338us/sample - loss: 0.2282\n",
      "Epoch 56/100\n",
      "6/6 [==============================] - 0s 166us/sample - loss: 0.2235\n",
      "Epoch 57/100\n",
      "6/6 [==============================] - 0s 166us/sample - loss: 0.2190\n",
      "Epoch 58/100\n",
      "6/6 [==============================] - 0s 166us/sample - loss: 0.2145\n",
      "Epoch 59/100\n",
      "6/6 [==============================] - 0s 332us/sample - loss: 0.2101\n",
      "Epoch 60/100\n",
      "6/6 [==============================] - 0s 333us/sample - loss: 0.2057\n",
      "Epoch 61/100\n",
      "6/6 [==============================] - 0s 166us/sample - loss: 0.2015\n",
      "Epoch 62/100\n",
      "6/6 [==============================] - 0s 166us/sample - loss: 0.1974\n",
      "Epoch 63/100\n",
      "6/6 [==============================] - 0s 166us/sample - loss: 0.1933\n",
      "Epoch 64/100\n",
      "6/6 [==============================] - 0s 166us/sample - loss: 0.1893\n",
      "Epoch 65/100\n",
      "6/6 [==============================] - 0s 0s/sample - loss: 0.1855\n",
      "Epoch 66/100\n",
      "6/6 [==============================] - 0s 166us/sample - loss: 0.1816\n",
      "Epoch 67/100\n",
      "6/6 [==============================] - 0s 166us/sample - loss: 0.1779\n",
      "Epoch 68/100\n",
      "6/6 [==============================] - 0s 166us/sample - loss: 0.1743\n",
      "Epoch 69/100\n",
      "6/6 [==============================] - 0s 166us/sample - loss: 0.1707\n",
      "Epoch 70/100\n",
      "6/6 [==============================] - 0s 168us/sample - loss: 0.1672\n",
      "Epoch 71/100\n",
      "6/6 [==============================] - 0s 166us/sample - loss: 0.1637\n",
      "Epoch 72/100\n",
      "6/6 [==============================] - 0s 166us/sample - loss: 0.1604\n",
      "Epoch 73/100\n",
      "6/6 [==============================] - 0s 166us/sample - loss: 0.1571\n",
      "Epoch 74/100\n",
      "6/6 [==============================] - 0s 166us/sample - loss: 0.1539\n",
      "Epoch 75/100\n",
      "6/6 [==============================] - 0s 160us/sample - loss: 0.1507\n",
      "Epoch 76/100\n",
      "6/6 [==============================] - 0s 166us/sample - loss: 0.1476\n",
      "Epoch 77/100\n",
      "6/6 [==============================] - 0s 166us/sample - loss: 0.1446\n",
      "Epoch 78/100\n",
      "6/6 [==============================] - 0s 166us/sample - loss: 0.1416\n",
      "Epoch 79/100\n",
      "6/6 [==============================] - 0s 166us/sample - loss: 0.1387\n",
      "Epoch 80/100\n",
      "6/6 [==============================] - 0s 166us/sample - loss: 0.1358\n",
      "Epoch 81/100\n",
      "6/6 [==============================] - 0s 333us/sample - loss: 0.1331\n",
      "Epoch 82/100\n",
      "6/6 [==============================] - 0s 166us/sample - loss: 0.1303\n",
      "Epoch 83/100\n",
      "6/6 [==============================] - 0s 166us/sample - loss: 0.1276\n",
      "Epoch 84/100\n",
      "6/6 [==============================] - 0s 332us/sample - loss: 0.1250\n",
      "Epoch 85/100\n",
      "6/6 [==============================] - 0s 332us/sample - loss: 0.1225\n",
      "Epoch 86/100\n",
      "6/6 [==============================] - 0s 166us/sample - loss: 0.1199\n",
      "Epoch 87/100\n",
      "6/6 [==============================] - 0s 166us/sample - loss: 0.1175\n",
      "Epoch 88/100\n",
      "6/6 [==============================] - 0s 167us/sample - loss: 0.1151\n",
      "Epoch 89/100\n",
      "6/6 [==============================] - 0s 166us/sample - loss: 0.1127\n",
      "Epoch 90/100\n",
      "6/6 [==============================] - 0s 166us/sample - loss: 0.1104\n",
      "Epoch 91/100\n",
      "6/6 [==============================] - 0s 168us/sample - loss: 0.1081\n",
      "Epoch 92/100\n",
      "6/6 [==============================] - 0s 332us/sample - loss: 0.1059\n",
      "Epoch 93/100\n",
      "6/6 [==============================] - 0s 333us/sample - loss: 0.1037\n",
      "Epoch 94/100\n",
      "6/6 [==============================] - 0s 327us/sample - loss: 0.1016\n",
      "Epoch 95/100\n",
      "6/6 [==============================] - 0s 332us/sample - loss: 0.0995\n",
      "Epoch 96/100\n",
      "6/6 [==============================] - 0s 166us/sample - loss: 0.0975\n",
      "Epoch 97/100\n",
      "6/6 [==============================] - 0s 166us/sample - loss: 0.0955\n",
      "Epoch 98/100\n",
      "6/6 [==============================] - 0s 0s/sample - loss: 0.0935\n",
      "Epoch 99/100\n",
      "6/6 [==============================] - 0s 167us/sample - loss: 0.0916\n",
      "Epoch 100/100\n",
      "6/6 [==============================] - 0s 333us/sample - loss: 0.0897\n"
     ]
    },
    {
     "data": {
      "text/plain": [
       "<tensorflow.python.keras.callbacks.History at 0x154dfc5c208>"
      ]
     },
     "execution_count": 5,
     "metadata": {},
     "output_type": "execute_result"
    }
   ],
   "source": [
    "model.fit(xs, ys, epochs=100, verbose=1)"
   ]
  },
  {
   "cell_type": "code",
   "execution_count": 6,
   "metadata": {},
   "outputs": [
    {
     "name": "stdout",
     "output_type": "stream",
     "text": [
      "[[18.126186]]\n"
     ]
    }
   ],
   "source": [
    "print(model.predict([10.0]))\n",
    "# y = (2 * x) - 1\n",
    "# y = 19"
   ]
  },
  {
   "cell_type": "code",
   "execution_count": null,
   "metadata": {},
   "outputs": [],
   "source": []
  }
 ],
 "metadata": {
  "kernelspec": {
   "display_name": "Python 3",
   "language": "python",
   "name": "python3"
  },
  "language_info": {
   "codemirror_mode": {
    "name": "ipython",
    "version": 3
   },
   "file_extension": ".py",
   "mimetype": "text/x-python",
   "name": "python",
   "nbconvert_exporter": "python",
   "pygments_lexer": "ipython3",
   "version": "3.7.6"
  }
 },
 "nbformat": 4,
 "nbformat_minor": 4
}
