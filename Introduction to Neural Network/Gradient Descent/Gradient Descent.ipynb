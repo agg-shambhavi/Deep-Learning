{
 "cells": [
  {
   "cell_type": "markdown",
   "metadata": {},
   "source": [
    "## Implementation of Gradient Descent Algorithm"
   ]
  },
  {
   "cell_type": "markdown",
   "metadata": {},
   "source": [
    "## About the Dataset\n",
    "We are taking <u>student admission dataset</u>.\n",
    "\n",
    "Number of rows: 100\n",
    "Number of columns : 3\n",
    "\n",
    "About Columns:\n",
    "\n",
    "Col1: Marks obtained by the student in the university entrance test\n",
    "\n",
    "Col2: Grades obtained by the student from their school\n",
    "\n",
    "Both Col1 and Col2 are normalised.\n",
    "\n",
    "Col3: 1/0 for if the student got selected in the university\n",
    "\n",
    "Problem: To predict if students gets admission in the university by analysing Test scores and grades of the student"
   ]
  },
  {
   "cell_type": "code",
   "execution_count": 229,
   "metadata": {},
   "outputs": [],
   "source": [
    "# importing essential libraries\n",
    "import numpy as np\n",
    "import pandas as pd\n",
    "import matplotlib.pyplot as plt"
   ]
  },
  {
   "cell_type": "code",
   "execution_count": 230,
   "metadata": {},
   "outputs": [],
   "source": [
    "## functions to plot boundary lines and datapoints\n",
    "def plot_datapoints(X,y):\n",
    "    ones = X[np.argwhere(y==1)]\n",
    "    zeros = X[np.argwhere(y==0)]\n",
    "    plt.scatter([s[0][0] for s in ones],[s[0][1] for s in ones], color = 'green')\n",
    "    plt.scatter([s[0][0] for s in zeros],[s[0][1] for s in zeros], color = 'red')\n",
    "    \n",
    "def boundary_lines(W, b, color='g--'):\n",
    "    plt.xlim(-0.05,1.05)\n",
    "    plt.ylim(-0.05,1.05)\n",
    "    x = np.arange(10, 10, 0.1)\n",
    "    plt.plot(x, W*x + b, color)"
   ]
  },
  {
   "cell_type": "code",
   "execution_count": 231,
   "metadata": {},
   "outputs": [
    {
     "data": {
      "image/png": "[encoded data removed]",
      "text/plain": [
       "<Figure size 432x288 with 1 Axes>"
      ]
     },
     "metadata": {
      "needs_background": "light"
     },
     "output_type": "display_data"
    }
   ],
   "source": [
    "# loading the dataset\n",
    "data = pd.read_csv('data.csv', header=None)\n",
    "X = np.array(data[[0,1]])\n",
    "y = np.array(data[2])\n",
    "plot_datapoints(X,y)"
   ]
  },
  {
   "cell_type": "code",
   "execution_count": 235,
   "metadata": {},
   "outputs": [
    {
     "data": {
      "text/plain": [
       "(100, 3)"
      ]
     },
     "execution_count": 235,
     "metadata": {},
     "output_type": "execute_result"
    }
   ],
   "source": [
    "data.shape"
   ]
  },
  {
   "cell_type": "code",
   "execution_count": 232,
   "metadata": {},
   "outputs": [],
   "source": [
    "# essential functions\n",
    "\n",
    "# sigmoid function\n",
    "def sigmoid(x):\n",
    "    return 1/(1 + np.exp(-x))\n",
    "\n",
    "# calculation of y_hat or prediction \n",
    "# sigmoid(Wx +b)\n",
    "def cal_y_hat(x, weights, bias):\n",
    "    return sigmoid(np.dot(x,weights) + bias)\n",
    "\n",
    "# calculation of error function\n",
    "# log-loss function\n",
    "def cal_error(y_hat, label):\n",
    "    return (-(label * np.log(y_hat)) - ((1-label)*(np.log(1 - y_hat))))\n",
    "\n",
    "# updation of weigts and bias\n",
    "def update_Weights(x, y, weights, bias, learnrate):\n",
    "    weights = weights - (learnrate * np.dot((cal_y_hat(x,weights,bias - y)), x) )\n",
    "    bias = bias - (learnrate * (cal_y_hat(x,weights,bias) - y))\n",
    "    return weights, bias\n",
    "    "
   ]
  },
  {
   "cell_type": "code",
   "execution_count": 233,
   "metadata": {},
   "outputs": [],
   "source": [
    "# set seed\n",
    "np.random.seed(42)\n",
    "\n",
    "epochs = 250\n",
    "learnrate = 0.01\n",
    "\n",
    "# trainng function\n",
    "def train(features , labels, epochs, learnrate, graph_lines=False):\n",
    "    errors = []\n",
    "    n_records, n_features = features.shape\n",
    "    last_loss = None\n",
    "    weights = np.random.normal(scale=1/n_features ** 0.5, size = n_features)\n",
    "    bias = 0\n",
    "    for e in range(epochs):\n",
    "        del_w = np.zeros(weights.shape)\n",
    "        for x,y in zip(features, labels):\n",
    "            output = cal_y_hat(x, weights, bias)\n",
    "            error = cal_error(output,y)\n",
    "            weights,bias = update_Weights(x,y,weights,bias,learnrate)\n",
    "            \n",
    "        # printing out the log-loss error on the training set\n",
    "        out = cal_y_hat(x, weights, bias)\n",
    "        loss = np.mean(cal_error(output,y))\n",
    "        errors.append(loss)\n",
    "        if e % (epochs / 10) == 0:\n",
    "            print(\"\\n    Epoch \",e,\"    \")\n",
    "            if last_loss and last_loss < loss:\n",
    "                print(\"Train loss: \",loss,\"Warning - loss increasing \")\n",
    "            else:\n",
    "                print(\"Train loss: \",loss)\n",
    "            last_loss = loss\n",
    "            predictions = out > 0.5\n",
    "            accuracy = np.mean(predictions == y)   \n",
    "            print(\"Accuracy: \",accuracy)\n",
    "      \n",
    "       \n",
    "    # Plotting the solution boundary\n",
    "    plt.title(\"Solution boundary\")\n",
    "    x1_min, x1_max = features[:,0].min(), features[:,0].max(),\n",
    "    x2_min, x2_max = features[:,1].min(), features[:,1].max(),\n",
    "    xx1, xx2 = np.meshgrid(np.linspace(x1_min, x1_max), np.linspace(x2_min, x2_max))\n",
    "    grid = np.c_[xx1.ravel(), xx2.ravel()]\n",
    "    probs = cal_y_hat(grid,weights,bias).reshape(xx1.shape)\n",
    "    plt.contour(xx1, xx2, probs, [0.5], linewidths=1, colors='black');\n",
    "    \n",
    "    # plotting data\n",
    "    plot_datapoints(features,labels)\n",
    "    plt.show()\n",
    "    \n",
    "    # plotting error \n",
    "    plt.title(\"Error Plot\")\n",
    "    plt.xlabel('Number of epochs')\n",
    "    plt.ylabel('Error')\n",
    "    plt.plot(errors)\n",
    "    plt.show()"
   ]
  },
  {
   "cell_type": "code",
   "execution_count": 234,
   "metadata": {},
   "outputs": [
    {
     "name": "stdout",
     "output_type": "stream",
     "text": [
      "\n",
      "    Epoch  0     \n",
      "Train loss:  0.6128649796877782\n",
      "Accuracy:  1.0\n",
      "\n",
      "    Epoch  25     \n",
      "Train loss:  0.30163573934352955\n",
      "Accuracy:  1.0\n",
      "\n",
      "    Epoch  50     \n",
      "Train loss:  0.20602666047404974\n",
      "Accuracy:  1.0\n",
      "\n",
      "    Epoch  75     \n",
      "Train loss:  0.12362174577640346\n",
      "Accuracy:  1.0\n",
      "\n",
      "    Epoch  100     \n",
      "Train loss:  0.06750041369072587\n",
      "Accuracy:  1.0\n",
      "\n",
      "    Epoch  125     \n",
      "Train loss:  0.03457804560891843\n",
      "Accuracy:  1.0\n",
      "\n",
      "    Epoch  150     \n",
      "Train loss:  0.016980237319377443\n",
      "Accuracy:  1.0\n",
      "\n",
      "    Epoch  175     \n",
      "Train loss:  0.008104787203207462\n",
      "Accuracy:  1.0\n",
      "\n",
      "    Epoch  200     \n",
      "Train loss:  0.003793769534340726\n",
      "Accuracy:  1.0\n",
      "\n",
      "    Epoch  225     \n",
      "Train loss:  0.0017520636552373536\n",
      "Accuracy:  1.0\n"
     ]
    },
    {
     "data": {
      "image/png": "[encoded data removed]",
      "text/plain": [
       "<Figure size 432x288 with 1 Axes>"
      ]
     },
     "metadata": {
      "needs_background": "light"
     },
     "output_type": "display_data"
    },
    {
     "data": {
      "image/png": "[encoded data removed]",
      "text/plain": [
       "<Figure size 432x288 with 1 Axes>"
      ]
     },
     "metadata": {
      "needs_background": "light"
     },
     "output_type": "display_data"
    }
   ],
   "source": [
    "train(X, y, epochs, learnrate)"
   ]
  },
  {
   "cell_type": "markdown",
   "metadata": {},
   "source": [
    "Hence, from the above two figures, we can see that the gradient descent is able to classify properly and as the number of epochs are increasing, the error is decreasing."
   ]
  },
  {
   "cell_type": "code",
   "execution_count": null,
   "metadata": {},
   "outputs": [],
   "source": []
  }
 ],
 "metadata": {
  "kernelspec": {
   "display_name": "Python 3",
   "language": "python",
   "name": "python3"
  },
  "language_info": {
   "codemirror_mode": {
    "name": "ipython",
    "version": 3
   },
   "file_extension": ".py",
   "mimetype": "text/x-python",
   "name": "python",
   "nbconvert_exporter": "python",
   "pygments_lexer": "ipython3",
   "version": "3.6.9"
  }
 },
 "nbformat": 4,
 "nbformat_minor": 4
}
